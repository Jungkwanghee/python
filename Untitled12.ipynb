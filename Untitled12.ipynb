{
  "nbformat": 4,
  "nbformat_minor": 0,
  "metadata": {
    "colab": {
      "provenance": [],
      "authorship_tag": "ABX9TyOlEZeIHxkhqfTo2CDINnj/",
      "include_colab_link": true
    },
    "kernelspec": {
      "name": "python3",
      "display_name": "Python 3"
    },
    "language_info": {
      "name": "python"
    }
  },
  "cells": [
    {
      "cell_type": "markdown",
      "metadata": {
        "id": "view-in-github",
        "colab_type": "text"
      },
      "source": [
        "<a href=\"https://colab.research.google.com/github/Jungkwanghee/python/blob/main/Untitled12.ipynb\" target=\"_parent\"><img src=\"https://colab.research.google.com/assets/colab-badge.svg\" alt=\"Open In Colab\"/></a>"
      ]
    },
    {
      "cell_type": "code",
      "execution_count": null,
      "metadata": {
        "colab": {
          "base_uri": "https://localhost:8080/"
        },
        "id": "NyxVqZWJ6ueV",
        "outputId": "f59cb156-4692-4604-88ce-3f8e3022e87b"
      },
      "outputs": [
        {
          "output_type": "stream",
          "name": "stdout",
          "text": [
            "2/2 [==============================] - 0s 8ms/step - loss: 0.3840 - accuracy: 0.8431\n",
            "2/2 [==============================] - 0s 8ms/step - loss: 0.8676 - accuracy: 0.5686\n",
            "2/2 [==============================] - 0s 5ms/step - loss: 0.5065 - accuracy: 0.7647\n",
            "2/2 [==============================] - 0s 8ms/step - loss: 0.4876 - accuracy: 0.7400\n",
            "2/2 [==============================] - 0s 4ms/step - loss: 0.5511 - accuracy: 0.8200\n",
            "2/2 [==============================] - 0s 8ms/step - loss: 0.6098 - accuracy: 0.6400\n",
            "정확도: [0.843137264251709, 0.5686274766921997, 0.7647058963775635, 0.7400000095367432, 0.8199999928474426, 0.6399999856948853]\n",
            "정확도 평균: 0.7294117709000906\n"
          ]
        }
      ],
      "source": [
        "from tensorflow.keras.models import Sequential\n",
        "from tensorflow.keras.layers import Dense\n",
        "from sklearn.model_selection import KFold\n",
        "from sklearn.metrics import accuracy_score\n",
        "\n",
        "from sklearn.model_selection import train_test_split\n",
        "import pandas as pd\n",
        "\n",
        "targetUrl=\"/content/sample_data/heart disease classification dataset.csv\"\n",
        "\n",
        "df = pd.read_csv(targetUrl)\n",
        "df['sex'].value_counts()\n",
        "df = pd.get_dummies(df)\n",
        "df = df.fillna(df.mean())\n",
        "\n",
        "\n",
        "y = df.iloc[:,15:17]\n",
        "X = df.iloc[:,1:15]\n",
        "\n",
        "k=6\n",
        "\n",
        "kfold = KFold(n_splits=k, shuffle=True)\n",
        "\n",
        "acc_score = []\n",
        "\n",
        "\n",
        "def model_fn():\n",
        "    model = Sequential() \n",
        "    model.add(Dense(24, input_dim=14, activation='relu'))\n",
        "    model.add(Dense(10, activation='relu'))\n",
        "    model.add(Dense(2, activation='sigmoid'))\n",
        "    return model\n",
        "\n",
        "\n",
        "for train_index , test_index in kfold.split(X):\n",
        "  X_train , X_test = X.iloc[train_index,:], X.iloc[test_index,:]  \n",
        "  y_train , y_test = y.iloc[train_index], y.iloc[test_index]\n",
        "\n",
        "  model = model_fn()\n",
        "  model.compile(loss='binary_crossentropy', optimizer='adam', metrics=['accuracy'])\n",
        "  history=model.fit(X_train, y_train, epochs=30, batch_size=3, verbose=0)\n",
        "\n",
        "  accuracy = model.evaluate(X_test, y_test)[1]\n",
        "  acc_score.append(accuracy)\n",
        "\n",
        "\n",
        "avg_acc_score = sum(acc_score)/k\n",
        "\n",
        "print('정확도:', acc_score)\n",
        "print('정확도 평균:', avg_acc_score)"
      ]
    }
  ]
}