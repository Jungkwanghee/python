{
  "nbformat": 4,
  "nbformat_minor": 0,
  "metadata": {
    "colab": {
      "provenance": [],
      "authorship_tag": "ABX9TyMx8e92DtHvsN/e8C/MOTi8",
      "include_colab_link": true
    },
    "kernelspec": {
      "name": "python3",
      "display_name": "Python 3"
    },
    "language_info": {
      "name": "python"
    }
  },
  "cells": [
    {
      "cell_type": "markdown",
      "metadata": {
        "id": "view-in-github",
        "colab_type": "text"
      },
      "source": [
        "<a href=\"https://colab.research.google.com/github/Jungkwanghee/python/blob/main/%EB%85%BC%EB%A6%AC%EC%99%80%20%ED%94%84%EB%A1%9C%EA%B7%B8%EB%9E%98%EB%B0%8D%202%EC%A3%BC%EC%B0%A8%20%EA%B3%BC%EC%A0%9C2.ipynb\" target=\"_parent\"><img src=\"https://colab.research.google.com/assets/colab-badge.svg\" alt=\"Open In Colab\"/></a>"
      ]
    },
    {
      "cell_type": "code",
      "execution_count": null,
      "metadata": {
        "id": "FSMqzXTUJx6H"
      },
      "outputs": [],
      "source": [
        "a = int(input())\n",
        "b = 1\n",
        "list1 = []\n",
        "\n",
        "\n",
        "if a > 30:\n",
        "    print(\"숫자가 너무 큽니다.\")\n",
        "\n",
        "\n",
        "else:\n",
        "    while b <= a:\n",
        "        list1.append(b)\n",
        "        b += 1\n",
        "    for i in list1:\n",
        "        c = \"*\" * (i -1) + str(i)\n",
        "        print(c)\n",
        "    \n"
      ]
    }
  ]
}