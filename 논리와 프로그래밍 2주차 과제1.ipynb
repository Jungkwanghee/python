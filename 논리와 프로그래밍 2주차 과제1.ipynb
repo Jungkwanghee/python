{
  "nbformat": 4,
  "nbformat_minor": 0,
  "metadata": {
    "colab": {
      "provenance": [],
      "authorship_tag": "ABX9TyNlQ3QBnUCRDoEiW67fINGn",
      "include_colab_link": true
    },
    "kernelspec": {
      "name": "python3",
      "display_name": "Python 3"
    },
    "language_info": {
      "name": "python"
    }
  },
  "cells": [
    {
      "cell_type": "markdown",
      "metadata": {
        "id": "view-in-github",
        "colab_type": "text"
      },
      "source": [
        "<a href=\"https://colab.research.google.com/github/Jungkwanghee/python/blob/main/%EB%85%BC%EB%A6%AC%EC%99%80%20%ED%94%84%EB%A1%9C%EA%B7%B8%EB%9E%98%EB%B0%8D%202%EC%A3%BC%EC%B0%A8%20%EA%B3%BC%EC%A0%9C1.ipynb\" target=\"_parent\"><img src=\"https://colab.research.google.com/assets/colab-badge.svg\" alt=\"Open In Colab\"/></a>"
      ]
    },
    {
      "cell_type": "code",
      "execution_count": null,
      "metadata": {
        "id": "F9-A_BZZKDh1"
      },
      "outputs": [],
      "source": [
        "a = int(input(\"자연수 한 개를 입력하세요: \"))\n",
        "b = 1\n",
        "list1 =[]\n",
        "list1.append(a)\n",
        "\n",
        "while b <= 99:\n",
        "    a = int(input(\"계속 입력을 원하시면, 자연수 한개를 입력하시고, 아니라면 0을 입력하세요.\"))\n",
        "    if a != 0:\n",
        "        b += 1\n",
        "        list1.append(a)\n",
        "        if b == 100:\n",
        "            print(\"이제그만하세요. 벌써 100개를 입력했어요.\")\n",
        "    else:\n",
        "        break\n",
        "    \n",
        "\n",
        "for i in range(len(list1)):\n",
        "    c = len(list1) - i\n",
        "    for j in range(1,c):\n",
        "        if list1[j-1] < list1[j]:\n",
        "            temp = list1[j-1]\n",
        "            list1[j-1] = list1[j]\n",
        "            list1[j] = temp\n",
        "\n",
        "\n",
        "str1 = \"\"\n",
        "str2 = 0 \n",
        "\n",
        "\n",
        "print(\"당신이 입력한 숫자는 큰 것부터 순서대로 말한다면 아래와 같습니다.\")\n",
        "for lists in list1:\n",
        "    str1 += str(lists)\n",
        "    if str2 <= len(list1)-2:\n",
        "        str1 += \", \"\n",
        "        str2 += 1\n",
        "    else:\n",
        "        break\n",
        "print(str1)\n"
      ]
    }
  ]
}