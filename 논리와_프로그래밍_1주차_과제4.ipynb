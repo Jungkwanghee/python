{
  "nbformat": 4,
  "nbformat_minor": 0,
  "metadata": {
    "colab": {
      "provenance": [],
      "authorship_tag": "ABX9TyPwF2lNt9UW9p4JxgkJAbk3",
      "include_colab_link": true
    },
    "kernelspec": {
      "name": "python3",
      "display_name": "Python 3"
    },
    "language_info": {
      "name": "python"
    }
  },
  "cells": [
    {
      "cell_type": "markdown",
      "metadata": {
        "id": "view-in-github",
        "colab_type": "text"
      },
      "source": [
        "<a href=\"https://colab.research.google.com/github/Jungkwanghee/python/blob/main/%EB%85%BC%EB%A6%AC%EC%99%80_%ED%94%84%EB%A1%9C%EA%B7%B8%EB%9E%98%EB%B0%8D_1%EC%A3%BC%EC%B0%A8_%EA%B3%BC%EC%A0%9C4.ipynb\" target=\"_parent\"><img src=\"https://colab.research.google.com/assets/colab-badge.svg\" alt=\"Open In Colab\"/></a>"
      ]
    },
    {
      "cell_type": "code",
      "execution_count": null,
      "metadata": {
        "colab": {
          "base_uri": "https://localhost:8080/"
        },
        "id": "be8e3tHGx1X_",
        "outputId": "77a0e615-4f55-47cf-fae7-5e0517d2576e"
      },
      "outputs": [
        {
          "output_type": "stream",
          "name": "stdout",
          "text": [
            "30이하의 정수를 입력하세요:정수\n",
            "정수를 입력해주세요\n",
            "30이하의 정수를 입력하세요:25\n",
            "1\n",
            "12\n",
            "123\n",
            "1234\n",
            "12345\n",
            "123456\n",
            "1234567\n",
            "12345678\n",
            "123456789\n",
            "12345678910\n",
            "1234567891011\n",
            "123456789101112\n",
            "12345678910111213\n",
            "1234567891011121314\n",
            "123456789101112131415\n",
            "12345678910111213141516\n",
            "1234567891011121314151617\n",
            "123456789101112131415161718\n",
            "12345678910111213141516171819\n",
            "1234567891011121314151617181920\n",
            "123456789101112131415161718192021\n",
            "12345678910111213141516171819202122\n",
            "1234567891011121314151617181920212223\n",
            "123456789101112131415161718192021222324\n",
            "12345678910111213141516171819202122232425\n"
          ]
        }
      ],
      "source": [
        "Repeat = True\n",
        "\n",
        "while Repeat == True:\n",
        "    Number1 = 1\n",
        "    Number2 = 1\n",
        "    Final_Number = input(\"30이하의 정수를 입력하세요:\")  \n",
        "    if (Final_Number.isdecimal()) == True:\n",
        "        if int(Final_Number) <= 30:\n",
        "            while Number1 <= int(Final_Number):\n",
        "                print(Number2)\n",
        "                Number3 = Number1 + 1\n",
        "                Number1 += 1\n",
        "                Number2 = str(Number2) + str(Number3)\n",
        "        else:\n",
        "            print(\"숫자가 너무 큽니다.\")\n",
        "            Repeat = False\n",
        "            Repeat = True\n",
        "    else:\n",
        "        print(\"정수를 입력해주세요\")\n",
        "        Repeat = False\n",
        "        Repeat = True\n"
      ]
    }
  ]
}