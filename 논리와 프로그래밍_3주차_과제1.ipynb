{
  "nbformat": 4,
  "nbformat_minor": 0,
  "metadata": {
    "colab": {
      "provenance": [],
      "authorship_tag": "ABX9TyPPb2X3iGW6EGLjS/jVyHIb",
      "include_colab_link": true
    },
    "kernelspec": {
      "name": "python3",
      "display_name": "Python 3"
    },
    "language_info": {
      "name": "python"
    }
  },
  "cells": [
    {
      "cell_type": "markdown",
      "metadata": {
        "id": "view-in-github",
        "colab_type": "text"
      },
      "source": [
        "<a href=\"https://colab.research.google.com/github/Jungkwanghee/python/blob/main/%EB%85%BC%EB%A6%AC%EC%99%80%20%ED%94%84%EB%A1%9C%EA%B7%B8%EB%9E%98%EB%B0%8D_3%EC%A3%BC%EC%B0%A8_%EA%B3%BC%EC%A0%9C1.ipynb\" target=\"_parent\"><img src=\"https://colab.research.google.com/assets/colab-badge.svg\" alt=\"Open In Colab\"/></a>"
      ]
    },
    {
      "cell_type": "code",
      "execution_count": 1,
      "metadata": {
        "colab": {
          "base_uri": "https://localhost:8080/"
        },
        "id": "mJ1009oH0DEj",
        "outputId": "c4381df2-38fd-415f-f6fd-5dbf5eabac30"
      },
      "outputs": [
        {
          "output_type": "stream",
          "name": "stdout",
          "text": [
            "4\n",
            "3\n",
            "4와 3는 서로의 약수가 아니다.\n"
          ]
        }
      ],
      "source": [
        "a = int(input())\n",
        "b = int(input())\n",
        "\n",
        "def f(x,y):\n",
        "    if x % y == 0 and y % x == 0:\n",
        "        print(f\"{x}와 {y}는 같은 숫자이다.\")\n",
        "    elif x % y == 0 and y % x != 0:\n",
        "        print(f\"{y}는 {x}의 약수이지만, {x}가 아니다.\")\n",
        "    elif x % y != 0 and y % x == 0:\n",
        "        print(f\"{x}는 {y}의 약수이지만, {y}가 아니다.\")\n",
        "    else:\n",
        "        print(f\"{x}와 {y}는 서로의 약수가 아니다.\")\n",
        "\n",
        "\n",
        "f(a,b)\n",
        "\n",
        "\n",
        "\n"
      ]
    }
  ]
}